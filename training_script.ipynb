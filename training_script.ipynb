{
 "cells": [
  {
   "cell_type": "code",
   "execution_count": null,
   "metadata": {},
   "outputs": [],
   "source": [
    "# Training script\n",
    "\n",
    "from ultralytics import YOLO\n",
    "\n",
    "model = YOLO('yolov11m.pt')\n",
    "\n",
    "model.train(data='path-to-dataset/data.yaml', epochs=100, imgsz=640, device=0, batch=0.95, patience=10)"
   ]
  },
  {
   "cell_type": "code",
   "execution_count": null,
   "metadata": {},
   "outputs": [],
   "source": [
    "# Export the model\n",
    "\n",
    "model = YOLO(\"path-to-model/weights/best.pt\")\n",
    "\n",
    "model.export(format=\"engine\", int8=True, device=0, data='path-to-dataset/data.yaml')"
   ]
  }
 ],
 "metadata": {
  "kernelspec": {
   "display_name": ".venv",
   "language": "python",
   "name": "python3"
  },
  "language_info": {
   "codemirror_mode": {
    "name": "ipython",
    "version": 3
   },
   "file_extension": ".py",
   "mimetype": "text/x-python",
   "name": "python",
   "nbconvert_exporter": "python",
   "pygments_lexer": "ipython3",
   "version": "3.10.12"
  }
 },
 "nbformat": 4,
 "nbformat_minor": 2
}
